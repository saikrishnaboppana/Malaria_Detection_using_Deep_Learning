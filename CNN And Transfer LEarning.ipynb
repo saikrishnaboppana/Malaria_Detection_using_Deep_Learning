{
 "cells": [
  {
   "cell_type": "markdown",
   "metadata": {},
   "source": [
    "## Creating CNN Using Scratch And Transfer Learning"
   ]
  },
  {
   "cell_type": "markdown",
   "metadata": {},
   "source": [
    "Please download the dataset from the below url"
   ]
  },
  {
   "cell_type": "code",
   "execution_count": 1,
   "metadata": {},
   "outputs": [],
   "source": [
    "# import the libraries as shown below\n",
    "\n",
    "from tensorflow.keras.layers import Input, Lambda, Dense, Flatten,Conv2D\n",
    "from tensorflow.keras.models import Model\n",
    "from tensorflow.keras.applications.vgg19 import VGG19\n",
    "from tensorflow.keras.applications.resnet50 import preprocess_input\n",
    "from tensorflow.keras.preprocessing import image\n",
    "from tensorflow.keras.preprocessing.image import ImageDataGenerator,load_img\n",
    "from tensorflow.keras.models import Sequential\n",
    "import numpy as np\n",
    "from glob import glob\n",
    "import matplotlib.pyplot as plt"
   ]
  },
  {
   "cell_type": "code",
   "execution_count": 2,
   "metadata": {},
   "outputs": [],
   "source": [
    "# re-size all the images to this\n",
    "IMAGE_SIZE = [224, 224]\n",
    "\n",
    "train_path = 'cell_images/Train'\n",
    "valid_path = 'cell_images/Test'\n"
   ]
  },
  {
   "cell_type": "code",
   "execution_count": 3,
   "metadata": {},
   "outputs": [],
   "source": [
    "# Import the Vgg 16 library as shown below and add preprocessing layer to the front of VGG\n",
    "# Here we will be using imagenet weights\n",
    "\n",
    "mobilnet = VGG19(input_shape=IMAGE_SIZE + [3], weights='imagenet', include_top=False)\n",
    "\n",
    "\n"
   ]
  },
  {
   "cell_type": "code",
   "execution_count": 4,
   "metadata": {},
   "outputs": [],
   "source": [
    "# don't train existing weights\n",
    "for layer in mobilnet.layers:\n",
    "    layer.trainable = False"
   ]
  },
  {
   "cell_type": "code",
   "execution_count": 5,
   "metadata": {},
   "outputs": [],
   "source": [
    "  # useful for getting number of output classes\n",
    "folders = glob('Dataset/Train/*')"
   ]
  },
  {
   "cell_type": "code",
   "execution_count": 6,
   "metadata": {},
   "outputs": [
    {
     "data": {
      "text/plain": [
       "['Dataset/Train\\\\Parasite', 'Dataset/Train\\\\Uninfected']"
      ]
     },
     "execution_count": 6,
     "metadata": {},
     "output_type": "execute_result"
    }
   ],
   "source": [
    "folders"
   ]
  },
  {
   "cell_type": "code",
   "execution_count": 7,
   "metadata": {},
   "outputs": [],
   "source": [
    "# our layers - you can add more if you want\n",
    "x = Flatten()(mobilnet.output)"
   ]
  },
  {
   "cell_type": "code",
   "execution_count": 8,
   "metadata": {},
   "outputs": [],
   "source": [
    "prediction = Dense(len(folders), activation='softmax')(x)\n",
    "\n",
    "# create a model object\n",
    "model = Model(inputs=mobilnet.input, outputs=prediction)"
   ]
  },
  {
   "cell_type": "code",
   "execution_count": 9,
   "metadata": {},
   "outputs": [
    {
     "name": "stdout",
     "output_type": "stream",
     "text": [
      "Model: \"model\"\n",
      "_________________________________________________________________\n",
      "Layer (type)                 Output Shape              Param #   \n",
      "=================================================================\n",
      "input_1 (InputLayer)         [(None, 224, 224, 3)]     0         \n",
      "_________________________________________________________________\n",
      "block1_conv1 (Conv2D)        (None, 224, 224, 64)      1792      \n",
      "_________________________________________________________________\n",
      "block1_conv2 (Conv2D)        (None, 224, 224, 64)      36928     \n",
      "_________________________________________________________________\n",
      "block1_pool (MaxPooling2D)   (None, 112, 112, 64)      0         \n",
      "_________________________________________________________________\n",
      "block2_conv1 (Conv2D)        (None, 112, 112, 128)     73856     \n",
      "_________________________________________________________________\n",
      "block2_conv2 (Conv2D)        (None, 112, 112, 128)     147584    \n",
      "_________________________________________________________________\n",
      "block2_pool (MaxPooling2D)   (None, 56, 56, 128)       0         \n",
      "_________________________________________________________________\n",
      "block3_conv1 (Conv2D)        (None, 56, 56, 256)       295168    \n",
      "_________________________________________________________________\n",
      "block3_conv2 (Conv2D)        (None, 56, 56, 256)       590080    \n",
      "_________________________________________________________________\n",
      "block3_conv3 (Conv2D)        (None, 56, 56, 256)       590080    \n",
      "_________________________________________________________________\n",
      "block3_conv4 (Conv2D)        (None, 56, 56, 256)       590080    \n",
      "_________________________________________________________________\n",
      "block3_pool (MaxPooling2D)   (None, 28, 28, 256)       0         \n",
      "_________________________________________________________________\n",
      "block4_conv1 (Conv2D)        (None, 28, 28, 512)       1180160   \n",
      "_________________________________________________________________\n",
      "block4_conv2 (Conv2D)        (None, 28, 28, 512)       2359808   \n",
      "_________________________________________________________________\n",
      "block4_conv3 (Conv2D)        (None, 28, 28, 512)       2359808   \n",
      "_________________________________________________________________\n",
      "block4_conv4 (Conv2D)        (None, 28, 28, 512)       2359808   \n",
      "_________________________________________________________________\n",
      "block4_pool (MaxPooling2D)   (None, 14, 14, 512)       0         \n",
      "_________________________________________________________________\n",
      "block5_conv1 (Conv2D)        (None, 14, 14, 512)       2359808   \n",
      "_________________________________________________________________\n",
      "block5_conv2 (Conv2D)        (None, 14, 14, 512)       2359808   \n",
      "_________________________________________________________________\n",
      "block5_conv3 (Conv2D)        (None, 14, 14, 512)       2359808   \n",
      "_________________________________________________________________\n",
      "block5_conv4 (Conv2D)        (None, 14, 14, 512)       2359808   \n",
      "_________________________________________________________________\n",
      "block5_pool (MaxPooling2D)   (None, 7, 7, 512)         0         \n",
      "_________________________________________________________________\n",
      "flatten (Flatten)            (None, 25088)             0         \n",
      "_________________________________________________________________\n",
      "dense (Dense)                (None, 2)                 50178     \n",
      "=================================================================\n",
      "Total params: 20,074,562\n",
      "Trainable params: 50,178\n",
      "Non-trainable params: 20,024,384\n",
      "_________________________________________________________________\n"
     ]
    }
   ],
   "source": [
    "\n",
    "# view the structure of the model\n",
    "model.summary()\n"
   ]
  },
  {
   "cell_type": "code",
   "execution_count": 10,
   "metadata": {},
   "outputs": [],
   "source": [
    "from tensorflow.keras.layers import MaxPooling2D"
   ]
  },
  {
   "cell_type": "code",
   "execution_count": 11,
   "metadata": {},
   "outputs": [
    {
     "name": "stdout",
     "output_type": "stream",
     "text": [
      "Model: \"sequential\"\n",
      "_________________________________________________________________\n",
      "Layer (type)                 Output Shape              Param #   \n",
      "=================================================================\n",
      "conv2d (Conv2D)              (None, 224, 224, 16)      208       \n",
      "_________________________________________________________________\n",
      "max_pooling2d (MaxPooling2D) (None, 112, 112, 16)      0         \n",
      "_________________________________________________________________\n",
      "conv2d_1 (Conv2D)            (None, 112, 112, 32)      2080      \n",
      "_________________________________________________________________\n",
      "max_pooling2d_1 (MaxPooling2 (None, 56, 56, 32)        0         \n",
      "_________________________________________________________________\n",
      "conv2d_2 (Conv2D)            (None, 56, 56, 64)        8256      \n",
      "_________________________________________________________________\n",
      "max_pooling2d_2 (MaxPooling2 (None, 28, 28, 64)        0         \n",
      "_________________________________________________________________\n",
      "flatten_1 (Flatten)          (None, 50176)             0         \n",
      "_________________________________________________________________\n",
      "dense_1 (Dense)              (None, 500)               25088500  \n",
      "_________________________________________________________________\n",
      "dense_2 (Dense)              (None, 2)                 1002      \n",
      "=================================================================\n",
      "Total params: 25,100,046\n",
      "Trainable params: 25,100,046\n",
      "Non-trainable params: 0\n",
      "_________________________________________________________________\n"
     ]
    }
   ],
   "source": [
    "### Create Model from scratch using CNN\n",
    "model=Sequential()\n",
    "model.add(Conv2D(filters=16,kernel_size=2,padding=\"same\",activation=\"relu\",input_shape=(224,224,3)))\n",
    "model.add(MaxPooling2D(pool_size=2))\n",
    "model.add(Conv2D(filters=32,kernel_size=2,padding=\"same\",activation =\"relu\"))\n",
    "model.add(MaxPooling2D(pool_size=2))\n",
    "model.add(Conv2D(filters=64,kernel_size=2,padding=\"same\",activation=\"relu\"))\n",
    "model.add(MaxPooling2D(pool_size=2))\n",
    "model.add(Flatten())\n",
    "model.add(Dense(500,activation=\"relu\"))\n",
    "model.add(Dense(2,activation=\"softmax\"))\n",
    "model.summary()"
   ]
  },
  {
   "cell_type": "code",
   "execution_count": 12,
   "metadata": {},
   "outputs": [],
   "source": [
    "# tell the model what cost and optimization method to use\n",
    "model.compile(\n",
    "  loss='categorical_crossentropy',\n",
    "  optimizer='adam',\n",
    "  metrics=['accuracy']\n",
    ")\n"
   ]
  },
  {
   "cell_type": "code",
   "execution_count": 13,
   "metadata": {},
   "outputs": [],
   "source": [
    "# Use the Image Data Generator to import the images from the dataset\n",
    "from tensorflow.keras.preprocessing.image import ImageDataGenerator\n",
    "\n",
    "train_datagen = ImageDataGenerator(rescale = 1./255,\n",
    "                                   shear_range = 0.2,\n",
    "                                   zoom_range = 0.2,\n",
    "                                   horizontal_flip = True)\n",
    "\n",
    "test_datagen = ImageDataGenerator(rescale = 1./255)"
   ]
  },
  {
   "cell_type": "code",
   "execution_count": 14,
   "metadata": {},
   "outputs": [
    {
     "name": "stdout",
     "output_type": "stream",
     "text": [
      "Found 416 images belonging to 2 classes.\n"
     ]
    }
   ],
   "source": [
    "# Make sure you provide the same target size as initialied for the image size\n",
    "training_set = train_datagen.flow_from_directory('Dataset/Train',\n",
    "                                                 target_size = (224, 224),\n",
    "                                                 batch_size = 32,\n",
    "                                                 class_mode = 'categorical')"
   ]
  },
  {
   "cell_type": "code",
   "execution_count": 15,
   "metadata": {},
   "outputs": [
    {
     "data": {
      "text/plain": [
       "<tensorflow.python.keras.preprocessing.image.DirectoryIterator at 0x20080d1a370>"
      ]
     },
     "execution_count": 15,
     "metadata": {},
     "output_type": "execute_result"
    }
   ],
   "source": [
    "training_set"
   ]
  },
  {
   "cell_type": "code",
   "execution_count": 16,
   "metadata": {},
   "outputs": [
    {
     "name": "stdout",
     "output_type": "stream",
     "text": [
      "Found 134 images belonging to 2 classes.\n"
     ]
    }
   ],
   "source": [
    "test_set = test_datagen.flow_from_directory('Dataset/Test',\n",
    "                                            target_size = (224, 224),\n",
    "                                            batch_size = 32,\n",
    "                                            class_mode = 'categorical')"
   ]
  },
  {
   "cell_type": "code",
   "execution_count": 17,
   "metadata": {
    "scrolled": true
   },
   "outputs": [
    {
     "name": "stderr",
     "output_type": "stream",
     "text": [
      "C:\\Users\\bsaik\\anaconda3\\lib\\site-packages\\tensorflow\\python\\keras\\engine\\training.py:1844: UserWarning: `Model.fit_generator` is deprecated and will be removed in a future version. Please use `Model.fit`, which supports generators.\n",
      "  warnings.warn('`Model.fit_generator` is deprecated and '\n"
     ]
    },
    {
     "name": "stdout",
     "output_type": "stream",
     "text": [
      "Epoch 1/50\n",
      "13/13 [==============================] - 24s 2s/step - loss: 1.9733 - accuracy: 0.5021 - val_loss: 0.9124 - val_accuracy: 0.3209\n",
      "Epoch 2/50\n",
      "13/13 [==============================] - 15s 1s/step - loss: 0.7424 - accuracy: 0.4578 - val_loss: 0.6769 - val_accuracy: 0.6791\n",
      "Epoch 3/50\n",
      "13/13 [==============================] - 15s 1s/step - loss: 0.6794 - accuracy: 0.5593 - val_loss: 0.6765 - val_accuracy: 0.6791\n",
      "Epoch 4/50\n",
      "13/13 [==============================] - 17s 1s/step - loss: 0.6582 - accuracy: 0.6187 - val_loss: 0.7346 - val_accuracy: 0.4030\n",
      "Epoch 5/50\n",
      "13/13 [==============================] - 17s 1s/step - loss: 0.6298 - accuracy: 0.6609 - val_loss: 0.7878 - val_accuracy: 0.3806\n",
      "Epoch 6/50\n",
      "13/13 [==============================] - 17s 1s/step - loss: 0.5645 - accuracy: 0.7332 - val_loss: 1.0459 - val_accuracy: 0.3806\n",
      "Epoch 7/50\n",
      "13/13 [==============================] - 16s 1s/step - loss: 0.5699 - accuracy: 0.6985 - val_loss: 0.8049 - val_accuracy: 0.4104\n",
      "Epoch 8/50\n",
      "13/13 [==============================] - 16s 1s/step - loss: 0.4632 - accuracy: 0.7967 - val_loss: 0.9708 - val_accuracy: 0.4104\n",
      "Epoch 9/50\n",
      "13/13 [==============================] - 17s 1s/step - loss: 0.4139 - accuracy: 0.8235 - val_loss: 0.7741 - val_accuracy: 0.4851\n",
      "Epoch 10/50\n",
      "13/13 [==============================] - 19s 1s/step - loss: 0.4758 - accuracy: 0.7659 - val_loss: 0.8770 - val_accuracy: 0.5896\n",
      "Epoch 11/50\n",
      "13/13 [==============================] - 9s 693ms/step - loss: 0.4338 - accuracy: 0.7844 - val_loss: 0.8548 - val_accuracy: 0.5448\n",
      "Epoch 12/50\n",
      "13/13 [==============================] - 9s 672ms/step - loss: 0.3878 - accuracy: 0.8104 - val_loss: 0.6687 - val_accuracy: 0.5373\n",
      "Epoch 13/50\n",
      "13/13 [==============================] - 9s 672ms/step - loss: 0.3563 - accuracy: 0.8651 - val_loss: 0.7251 - val_accuracy: 0.5821\n",
      "Epoch 14/50\n",
      "13/13 [==============================] - 9s 674ms/step - loss: 0.2980 - accuracy: 0.8882 - val_loss: 0.5293 - val_accuracy: 0.7090\n",
      "Epoch 15/50\n",
      "13/13 [==============================] - 9s 666ms/step - loss: 0.3621 - accuracy: 0.8676 - val_loss: 0.8759 - val_accuracy: 0.5597\n",
      "Epoch 16/50\n",
      "13/13 [==============================] - 9s 708ms/step - loss: 0.2738 - accuracy: 0.8958 - val_loss: 0.6287 - val_accuracy: 0.6642\n",
      "Epoch 17/50\n",
      "13/13 [==============================] - 10s 792ms/step - loss: 0.2643 - accuracy: 0.9306 - val_loss: 0.7185 - val_accuracy: 0.6642\n",
      "Epoch 18/50\n",
      "13/13 [==============================] - 9s 687ms/step - loss: 0.2035 - accuracy: 0.9277 - val_loss: 0.5287 - val_accuracy: 0.7388\n",
      "Epoch 19/50\n",
      "13/13 [==============================] - 9s 676ms/step - loss: 0.1938 - accuracy: 0.9441 - val_loss: 0.5995 - val_accuracy: 0.7164\n",
      "Epoch 20/50\n",
      "13/13 [==============================] - 9s 679ms/step - loss: 0.2198 - accuracy: 0.8998 - val_loss: 0.6373 - val_accuracy: 0.7164\n",
      "Epoch 21/50\n",
      "13/13 [==============================] - 10s 731ms/step - loss: 0.1753 - accuracy: 0.9478 - val_loss: 0.5958 - val_accuracy: 0.7388\n",
      "Epoch 22/50\n",
      "13/13 [==============================] - 10s 756ms/step - loss: 0.1586 - accuracy: 0.9505 - val_loss: 0.7036 - val_accuracy: 0.7015\n",
      "Epoch 23/50\n",
      "13/13 [==============================] - 9s 685ms/step - loss: 0.1670 - accuracy: 0.9486 - val_loss: 0.9162 - val_accuracy: 0.7239\n",
      "Epoch 24/50\n",
      "13/13 [==============================] - 10s 771ms/step - loss: 0.1680 - accuracy: 0.9227 - val_loss: 0.5215 - val_accuracy: 0.7687\n",
      "Epoch 25/50\n",
      "13/13 [==============================] - 11s 797ms/step - loss: 0.2040 - accuracy: 0.9180 - val_loss: 0.5088 - val_accuracy: 0.7537\n",
      "Epoch 26/50\n",
      "13/13 [==============================] - 10s 753ms/step - loss: 0.2398 - accuracy: 0.9027 - val_loss: 0.3017 - val_accuracy: 0.8507\n",
      "Epoch 27/50\n",
      "13/13 [==============================] - 10s 739ms/step - loss: 0.1097 - accuracy: 0.9625 - val_loss: 0.5118 - val_accuracy: 0.7985\n",
      "Epoch 28/50\n",
      "13/13 [==============================] - 10s 777ms/step - loss: 0.0839 - accuracy: 0.9765 - val_loss: 0.3720 - val_accuracy: 0.8358\n",
      "Epoch 29/50\n",
      "13/13 [==============================] - 11s 797ms/step - loss: 0.1040 - accuracy: 0.9711 - val_loss: 0.2655 - val_accuracy: 0.8731\n",
      "Epoch 30/50\n",
      "13/13 [==============================] - 10s 748ms/step - loss: 0.0975 - accuracy: 0.9743 - val_loss: 0.2849 - val_accuracy: 0.8806\n",
      "Epoch 31/50\n",
      "13/13 [==============================] - 10s 762ms/step - loss: 0.1038 - accuracy: 0.9727 - val_loss: 0.5254 - val_accuracy: 0.8209\n",
      "Epoch 32/50\n",
      "13/13 [==============================] - 10s 792ms/step - loss: 0.0638 - accuracy: 0.9844 - val_loss: 0.4025 - val_accuracy: 0.8433\n",
      "Epoch 33/50\n",
      "13/13 [==============================] - 10s 754ms/step - loss: 0.0769 - accuracy: 0.9828 - val_loss: 0.2660 - val_accuracy: 0.9030\n",
      "Epoch 34/50\n",
      "13/13 [==============================] - 10s 747ms/step - loss: 0.0882 - accuracy: 0.9876 - val_loss: 0.4082 - val_accuracy: 0.8582\n",
      "Epoch 35/50\n",
      "13/13 [==============================] - 10s 758ms/step - loss: 0.0575 - accuracy: 0.9846 - val_loss: 0.2513 - val_accuracy: 0.9104\n",
      "Epoch 36/50\n",
      "13/13 [==============================] - 10s 763ms/step - loss: 0.0666 - accuracy: 0.9897 - val_loss: 0.3289 - val_accuracy: 0.8806\n",
      "Epoch 37/50\n",
      "13/13 [==============================] - 11s 814ms/step - loss: 0.0511 - accuracy: 0.9902 - val_loss: 0.4524 - val_accuracy: 0.8507\n",
      "Epoch 38/50\n",
      "13/13 [==============================] - 10s 773ms/step - loss: 0.0489 - accuracy: 0.9805 - val_loss: 0.2718 - val_accuracy: 0.8955\n",
      "Epoch 39/50\n",
      "13/13 [==============================] - 10s 762ms/step - loss: 0.0484 - accuracy: 0.9854 - val_loss: 0.2003 - val_accuracy: 0.9254\n",
      "Epoch 40/50\n",
      "13/13 [==============================] - 10s 775ms/step - loss: 0.0540 - accuracy: 0.9903 - val_loss: 0.4013 - val_accuracy: 0.8582\n",
      "Epoch 41/50\n",
      "13/13 [==============================] - 11s 802ms/step - loss: 0.0520 - accuracy: 0.9898 - val_loss: 0.2288 - val_accuracy: 0.9328\n",
      "Epoch 42/50\n",
      "13/13 [==============================] - 10s 772ms/step - loss: 0.0692 - accuracy: 0.9740 - val_loss: 0.3928 - val_accuracy: 0.8731\n",
      "Epoch 43/50\n",
      "13/13 [==============================] - 11s 851ms/step - loss: 0.0522 - accuracy: 0.9845 - val_loss: 0.4134 - val_accuracy: 0.8582\n",
      "Epoch 44/50\n",
      "13/13 [==============================] - 10s 794ms/step - loss: 0.0588 - accuracy: 0.9798 - val_loss: 0.3086 - val_accuracy: 0.9030\n",
      "Epoch 45/50\n",
      "13/13 [==============================] - 12s 878ms/step - loss: 0.0537 - accuracy: 0.9864 - val_loss: 0.5334 - val_accuracy: 0.8507\n",
      "Epoch 46/50\n",
      "13/13 [==============================] - 13s 992ms/step - loss: 0.0595 - accuracy: 0.9831 - val_loss: 0.2716 - val_accuracy: 0.9030\n",
      "Epoch 47/50\n",
      "13/13 [==============================] - 11s 810ms/step - loss: 0.0612 - accuracy: 0.9869 - val_loss: 0.2415 - val_accuracy: 0.9104\n",
      "Epoch 48/50\n",
      "13/13 [==============================] - 10s 789ms/step - loss: 0.0781 - accuracy: 0.9810 - val_loss: 0.3776 - val_accuracy: 0.8731\n",
      "Epoch 49/50\n",
      "13/13 [==============================] - 11s 842ms/step - loss: 0.0403 - accuracy: 0.9954 - val_loss: 0.5021 - val_accuracy: 0.8582\n",
      "Epoch 50/50\n",
      "13/13 [==============================] - 11s 853ms/step - loss: 0.0890 - accuracy: 0.9820 - val_loss: 0.3460 - val_accuracy: 0.8731\n"
     ]
    }
   ],
   "source": [
    "# fit the model\n",
    "# Run the cell. It will take some time to execute\n",
    "r = model.fit_generator(\n",
    "  training_set,\n",
    "  validation_data=test_set,\n",
    "  epochs=50,\n",
    "  steps_per_epoch=len(training_set),\n",
    "  validation_steps=len(test_set)\n",
    ")"
   ]
  },
  {
   "cell_type": "code",
   "execution_count": 18,
   "metadata": {},
   "outputs": [
    {
     "data": {
      "image/png": "[encoded data removed]",
      "text/plain": [
       "<Figure size 432x288 with 1 Axes>"
      ]
     },
     "metadata": {
      "needs_background": "light"
     },
     "output_type": "display_data"
    },
    {
     "data": {
      "image/png": "[encoded data removed]",
      "text/plain": [
       "<Figure size 432x288 with 1 Axes>"
      ]
     },
     "metadata": {
      "needs_background": "light"
     },
     "output_type": "display_data"
    },
    {
     "data": {
      "text/plain": [
       "<Figure size 432x288 with 0 Axes>"
      ]
     },
     "metadata": {},
     "output_type": "display_data"
    }
   ],
   "source": [
    "# plot the loss\n",
    "plt.plot(r.history['loss'], label='train loss')\n",
    "plt.plot(r.history['val_loss'], label='val loss')\n",
    "plt.legend()\n",
    "plt.show()\n",
    "plt.savefig('LossVal_loss')\n",
    "\n",
    "# plot the accuracy\n",
    "plt.plot(r.history['accuracy'], label='train acc')\n",
    "plt.plot(r.history['val_accuracy'], label='val acc')\n",
    "plt.legend()\n",
    "plt.show()\n",
    "plt.savefig('AccVal_acc')"
   ]
  },
  {
   "cell_type": "code",
   "execution_count": 19,
   "metadata": {},
   "outputs": [],
   "source": [
    "# save it as a h5 file\n",
    "\n",
    "\n",
    "from tensorflow.keras.models import load_model\n",
    "\n",
    "model.save('model_vgg19.h5')"
   ]
  },
  {
   "cell_type": "code",
   "execution_count": 20,
   "metadata": {},
   "outputs": [],
   "source": [
    "\n",
    "y_pred = model.predict(test_set)\n"
   ]
  },
  {
   "cell_type": "code",
   "execution_count": 21,
   "metadata": {},
   "outputs": [
    {
     "data": {
      "text/plain": [
       "array([[9.99966264e-01, 3.37083111e-05],\n",
       "       [2.40881115e-01, 7.59118855e-01],\n",
       "       [9.99965549e-01, 3.44922919e-05],\n",
       "       [9.99999642e-01, 4.06876012e-07],\n",
       "       [9.99999285e-01, 7.61289698e-07],\n",
       "       [9.99999523e-01, 4.75334758e-07],\n",
       "       [1.08082913e-01, 8.91917109e-01],\n",
       "       [9.96880293e-01, 3.11968056e-03],\n",
       "       [1.48675069e-01, 8.51324856e-01],\n",
       "       [4.76747394e-01, 5.23252606e-01],\n",
       "       [9.99921322e-01, 7.86974197e-05],\n",
       "       [9.99822319e-01, 1.77685652e-04],\n",
       "       [3.62435430e-02, 9.63756502e-01],\n",
       "       [6.37146890e-01, 3.62853080e-01],\n",
       "       [4.34411243e-02, 9.56558883e-01],\n",
       "       [1.00000000e+00, 4.64389167e-08],\n",
       "       [9.99996543e-01, 3.43761735e-06],\n",
       "       [9.98221338e-01, 1.77869212e-03],\n",
       "       [9.98336673e-01, 1.66325807e-03],\n",
       "       [9.44736227e-02, 9.05526400e-01],\n",
       "       [1.33423563e-02, 9.86657679e-01],\n",
       "       [2.87878383e-02, 9.71212149e-01],\n",
       "       [1.00000000e+00, 2.76428107e-08],\n",
       "       [9.99635577e-01, 3.64413863e-04],\n",
       "       [5.10845631e-02, 9.48915422e-01],\n",
       "       [9.97639775e-01, 2.36020191e-03],\n",
       "       [3.44467163e-02, 9.65553284e-01],\n",
       "       [9.98456001e-01, 1.54403003e-03],\n",
       "       [7.37312734e-02, 9.26268697e-01],\n",
       "       [9.95535135e-01, 4.46488382e-03],\n",
       "       [9.98986542e-01, 1.01340446e-03],\n",
       "       [1.58522162e-03, 9.98414755e-01],\n",
       "       [7.36673713e-01, 2.63326317e-01],\n",
       "       [7.82402903e-02, 9.21759725e-01],\n",
       "       [1.12798557e-01, 8.87201488e-01],\n",
       "       [9.99484777e-01, 5.15144377e-04],\n",
       "       [9.98248219e-01, 1.75184221e-03],\n",
       "       [9.99844909e-01, 1.55065296e-04],\n",
       "       [9.97341931e-01, 2.65810615e-03],\n",
       "       [1.90507565e-02, 9.80949223e-01],\n",
       "       [9.99992371e-01, 7.68497011e-06],\n",
       "       [9.92584646e-01, 7.41530163e-03],\n",
       "       [9.97699916e-01, 2.30007083e-03],\n",
       "       [1.94077957e-02, 9.80592132e-01],\n",
       "       [9.99831438e-01, 1.68570274e-04],\n",
       "       [1.93625949e-02, 9.80637431e-01],\n",
       "       [3.72270554e-01, 6.27729475e-01],\n",
       "       [9.28481936e-01, 7.15180561e-02],\n",
       "       [9.98385429e-01, 1.61457562e-03],\n",
       "       [4.18308191e-03, 9.95816886e-01],\n",
       "       [3.54676209e-02, 9.64532435e-01],\n",
       "       [2.58106083e-01, 7.41893947e-01],\n",
       "       [1.00000000e+00, 1.22263741e-10],\n",
       "       [1.00000000e+00, 7.83181853e-12],\n",
       "       [2.43629918e-01, 7.56370008e-01],\n",
       "       [3.77813309e-01, 6.22186780e-01],\n",
       "       [9.99989986e-01, 9.98879932e-06],\n",
       "       [4.15806137e-02, 9.58419383e-01],\n",
       "       [9.76987123e-01, 2.30128337e-02],\n",
       "       [1.27867490e-01, 8.72132480e-01],\n",
       "       [9.99310493e-01, 6.89466309e-04],\n",
       "       [1.00000000e+00, 3.13361959e-08],\n",
       "       [3.87431611e-03, 9.96125638e-01],\n",
       "       [9.99911427e-01, 8.86171401e-05],\n",
       "       [9.98622537e-01, 1.37748139e-03],\n",
       "       [2.36086664e-03, 9.97639179e-01],\n",
       "       [9.98341560e-01, 1.65846536e-03],\n",
       "       [3.21750273e-03, 9.96782541e-01],\n",
       "       [2.62007713e-02, 9.73799169e-01],\n",
       "       [9.97063935e-01, 2.93610198e-03],\n",
       "       [9.79847312e-01, 2.01526619e-02],\n",
       "       [3.61411273e-01, 6.38588786e-01],\n",
       "       [4.35173921e-02, 9.56482649e-01],\n",
       "       [9.97308969e-01, 2.69102305e-03],\n",
       "       [9.99552071e-01, 4.47881408e-04],\n",
       "       [1.00904824e-02, 9.89909530e-01],\n",
       "       [1.19699035e-02, 9.88030136e-01],\n",
       "       [1.01222850e-01, 8.98777127e-01],\n",
       "       [9.99203384e-01, 7.96637789e-04],\n",
       "       [9.99985099e-01, 1.48924937e-05],\n",
       "       [5.15003735e-03, 9.94849980e-01],\n",
       "       [9.36452627e-01, 6.35473430e-02],\n",
       "       [3.09947180e-03, 9.96900558e-01],\n",
       "       [3.39851141e-01, 6.60148859e-01],\n",
       "       [9.99719560e-01, 2.80368084e-04],\n",
       "       [1.56759590e-01, 8.43240440e-01],\n",
       "       [1.13465354e-01, 8.86534631e-01],\n",
       "       [9.99999404e-01, 5.53570771e-07],\n",
       "       [1.85339019e-01, 8.14660966e-01],\n",
       "       [9.98457432e-01, 1.54261931e-03],\n",
       "       [9.99997377e-01, 2.60935394e-06],\n",
       "       [9.92297471e-01, 7.70248100e-03],\n",
       "       [9.99891043e-01, 1.08887973e-04],\n",
       "       [1.00139596e-01, 8.99860382e-01],\n",
       "       [9.99647617e-01, 3.52352741e-04],\n",
       "       [9.99011755e-01, 9.88165499e-04],\n",
       "       [9.98602450e-01, 1.39752240e-03],\n",
       "       [9.99965191e-01, 3.47729183e-05],\n",
       "       [6.12296879e-01, 3.87703121e-01],\n",
       "       [8.11159834e-02, 9.18884039e-01],\n",
       "       [3.35277528e-01, 6.64722443e-01],\n",
       "       [9.99396443e-01, 6.03513734e-04],\n",
       "       [3.79004958e-03, 9.96209979e-01],\n",
       "       [9.99999642e-01, 3.43073566e-07],\n",
       "       [9.95200872e-01, 4.79910756e-03],\n",
       "       [2.09718980e-02, 9.79028046e-01],\n",
       "       [1.35959521e-01, 8.64040494e-01],\n",
       "       [9.99993443e-01, 6.54665291e-06],\n",
       "       [8.19265097e-02, 9.18073475e-01],\n",
       "       [2.20194515e-02, 9.77980614e-01],\n",
       "       [9.98947680e-01, 1.05235947e-03],\n",
       "       [9.07648262e-03, 9.90923584e-01],\n",
       "       [1.75980236e-02, 9.82402027e-01],\n",
       "       [2.57577212e-03, 9.97424245e-01],\n",
       "       [9.97710824e-01, 2.28914572e-03],\n",
       "       [9.99995112e-01, 4.90459433e-06],\n",
       "       [9.97820616e-01, 2.17937282e-03],\n",
       "       [9.99407887e-01, 5.92104916e-04],\n",
       "       [9.41907048e-01, 5.80929406e-02],\n",
       "       [9.94415402e-01, 5.58461342e-03],\n",
       "       [2.69887865e-01, 7.30112135e-01],\n",
       "       [9.99817431e-01, 1.82626754e-04],\n",
       "       [8.68312716e-02, 9.13168728e-01],\n",
       "       [1.44646335e-02, 9.85535383e-01],\n",
       "       [1.66289166e-01, 8.33710790e-01],\n",
       "       [4.81296122e-01, 5.18703878e-01],\n",
       "       [9.99914527e-01, 8.54558748e-05],\n",
       "       [3.97553369e-02, 9.60244656e-01],\n",
       "       [9.99981403e-01, 1.85858189e-05],\n",
       "       [4.79907915e-02, 9.52009201e-01],\n",
       "       [9.99961853e-01, 3.81646023e-05],\n",
       "       [9.99973655e-01, 2.63486945e-05],\n",
       "       [9.89392996e-01, 1.06070675e-02],\n",
       "       [4.41387206e-01, 5.58612823e-01]], dtype=float32)"
      ]
     },
     "execution_count": 21,
     "metadata": {},
     "output_type": "execute_result"
    }
   ],
   "source": [
    "y_pred"
   ]
  },
  {
   "cell_type": "code",
   "execution_count": 22,
   "metadata": {},
   "outputs": [],
   "source": [
    "import numpy as np\n",
    "y_pred = np.argmax(y_pred, axis=1)"
   ]
  },
  {
   "cell_type": "code",
   "execution_count": 23,
   "metadata": {},
   "outputs": [
    {
     "data": {
      "text/plain": [
       "array([0, 1, 0, 0, 0, 0, 1, 0, 1, 1, 0, 0, 1, 0, 1, 0, 0, 0, 0, 1, 1, 1,\n",
       "       0, 0, 1, 0, 1, 0, 1, 0, 0, 1, 0, 1, 1, 0, 0, 0, 0, 1, 0, 0, 0, 1,\n",
       "       0, 1, 1, 0, 0, 1, 1, 1, 0, 0, 1, 1, 0, 1, 0, 1, 0, 0, 1, 0, 0, 1,\n",
       "       0, 1, 1, 0, 0, 1, 1, 0, 0, 1, 1, 1, 0, 0, 1, 0, 1, 1, 0, 1, 1, 0,\n",
       "       1, 0, 0, 0, 0, 1, 0, 0, 0, 0, 0, 1, 1, 0, 1, 0, 0, 1, 1, 0, 1, 1,\n",
       "       0, 1, 1, 1, 0, 0, 0, 0, 0, 0, 1, 0, 1, 1, 1, 1, 0, 1, 0, 1, 0, 0,\n",
       "       0, 1], dtype=int64)"
      ]
     },
     "execution_count": 23,
     "metadata": {},
     "output_type": "execute_result"
    }
   ],
   "source": [
    "y_pred"
   ]
  },
  {
   "cell_type": "code",
   "execution_count": 24,
   "metadata": {},
   "outputs": [],
   "source": [
    "from tensorflow.keras.models import load_model\n",
    "from tensorflow.keras.preprocessing import image"
   ]
  },
  {
   "cell_type": "code",
   "execution_count": 25,
   "metadata": {},
   "outputs": [],
   "source": [
    "model=load_model('model_vgg19.h5')"
   ]
  },
  {
   "cell_type": "code",
   "execution_count": 50,
   "metadata": {},
   "outputs": [],
   "source": [
    "img=image.load_img('Dataset/Test/Parasite/3.png',target_size=(224,224))\n",
    "\n"
   ]
  },
  {
   "cell_type": "code",
   "execution_count": 51,
   "metadata": {},
   "outputs": [
    {
     "data": {
      "text/plain": [
       "array([[[0., 0., 0.],\n",
       "        [0., 0., 0.],\n",
       "        [0., 0., 0.],\n",
       "        ...,\n",
       "        [0., 0., 0.],\n",
       "        [0., 0., 0.],\n",
       "        [0., 0., 0.]],\n",
       "\n",
       "       [[0., 0., 0.],\n",
       "        [0., 0., 0.],\n",
       "        [0., 0., 0.],\n",
       "        ...,\n",
       "        [0., 0., 0.],\n",
       "        [0., 0., 0.],\n",
       "        [0., 0., 0.]],\n",
       "\n",
       "       [[0., 0., 0.],\n",
       "        [0., 0., 0.],\n",
       "        [0., 0., 0.],\n",
       "        ...,\n",
       "        [0., 0., 0.],\n",
       "        [0., 0., 0.],\n",
       "        [0., 0., 0.]],\n",
       "\n",
       "       ...,\n",
       "\n",
       "       [[0., 0., 0.],\n",
       "        [0., 0., 0.],\n",
       "        [0., 0., 0.],\n",
       "        ...,\n",
       "        [0., 0., 0.],\n",
       "        [0., 0., 0.],\n",
       "        [0., 0., 0.]],\n",
       "\n",
       "       [[0., 0., 0.],\n",
       "        [0., 0., 0.],\n",
       "        [0., 0., 0.],\n",
       "        ...,\n",
       "        [0., 0., 0.],\n",
       "        [0., 0., 0.],\n",
       "        [0., 0., 0.]],\n",
       "\n",
       "       [[0., 0., 0.],\n",
       "        [0., 0., 0.],\n",
       "        [0., 0., 0.],\n",
       "        ...,\n",
       "        [0., 0., 0.],\n",
       "        [0., 0., 0.],\n",
       "        [0., 0., 0.]]], dtype=float32)"
      ]
     },
     "execution_count": 51,
     "metadata": {},
     "output_type": "execute_result"
    }
   ],
   "source": [
    "x=image.img_to_array(img)\n",
    "x"
   ]
  },
  {
   "cell_type": "code",
   "execution_count": 52,
   "metadata": {},
   "outputs": [
    {
     "data": {
      "text/plain": [
       "(224, 224, 3)"
      ]
     },
     "execution_count": 52,
     "metadata": {},
     "output_type": "execute_result"
    }
   ],
   "source": [
    "x.shape"
   ]
  },
  {
   "cell_type": "code",
   "execution_count": 53,
   "metadata": {},
   "outputs": [],
   "source": [
    "x=x/255"
   ]
  },
  {
   "cell_type": "code",
   "execution_count": 54,
   "metadata": {},
   "outputs": [
    {
     "data": {
      "text/plain": [
       "(1, 224, 224, 3)"
      ]
     },
     "execution_count": 54,
     "metadata": {},
     "output_type": "execute_result"
    }
   ],
   "source": [
    "x=np.expand_dims(x,axis=0)\n",
    "img_data=preprocess_input(x)\n",
    "img_data.shape"
   ]
  },
  {
   "cell_type": "code",
   "execution_count": 55,
   "metadata": {},
   "outputs": [
    {
     "data": {
      "text/plain": [
       "array([[0., 1.]], dtype=float32)"
      ]
     },
     "execution_count": 55,
     "metadata": {},
     "output_type": "execute_result"
    }
   ],
   "source": [
    "model.predict(img_data)"
   ]
  },
  {
   "cell_type": "code",
   "execution_count": 56,
   "metadata": {},
   "outputs": [],
   "source": [
    "a=np.argmax(model.predict(img_data), axis=1)"
   ]
  },
  {
   "cell_type": "code",
   "execution_count": 57,
   "metadata": {},
   "outputs": [
    {
     "name": "stdout",
     "output_type": "stream",
     "text": [
      "Uninfected\n"
     ]
    }
   ],
   "source": [
    "if(a==1):\n",
    "    print(\"Uninfected\")\n",
    "else:\n",
    "    print(\"Infected\")"
   ]
  }
 ],
 "metadata": {
  "kernelspec": {
   "display_name": "Python 3",
   "language": "python",
   "name": "python3"
  },
  "language_info": {
   "codemirror_mode": {
    "name": "ipython",
    "version": 3
   },
   "file_extension": ".py",
   "mimetype": "text/x-python",
   "name": "python",
   "nbconvert_exporter": "python",
   "pygments_lexer": "ipython3",
   "version": "3.8.5"
  }
 },
 "nbformat": 4,
 "nbformat_minor": 2
}
